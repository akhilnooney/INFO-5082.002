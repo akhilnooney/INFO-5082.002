{
  "nbformat": 4,
  "nbformat_minor": 0,
  "metadata": {
    "colab": {
      "name": "Medicine Recommendation.ipynb",
      "provenance": [],
      "collapsed_sections": [],
      "toc_visible": true,
      "machine_shape": "hm"
    },
    "kernelspec": {
      "name": "python3",
      "display_name": "Python 3"
    },
    "language_info": {
      "name": "python"
    },
    "accelerator": "GPU"
  },
  "cells": [
    {
      "cell_type": "code",
      "metadata": {
        "id": "PZvm8OEcxhnR"
      },
      "source": [
        "import pandas as pd\n",
        "import numpy as np\n",
        "import seaborn as sns\n",
        "from textblob import TextBlob\n",
        "import nltk\n",
        "import warnings\n",
        "from matplotlib import pyplot as plt\n",
        "from nltk.corpus import stopwords\n",
        "from nltk.tokenize import word_tokenize \n",
        "from nltk.stem import PorterStemmer\n",
        "from nltk.stem import WordNetLemmatizer\n",
        "from sklearn.model_selection import train_test_split\n",
        "from sklearn.feature_extraction.text import TfidfVectorizer\n",
        "from sklearn import model_selection, naive_bayes, svm\n",
        "from sklearn.metrics import accuracy_score\n",
        "from sklearn.metrics import classification_report\n",
        "from sklearn.datasets import make_classification\n",
        "from sklearn import metrics\n",
        "import math \n",
        "import re\n",
        "warnings.filterwarnings('ignore')\n",
        "df_Train=pd.read_csv(\"/content/sample_data/drugsComTest_raw.csv\")\n",
        "df_Test=pd.read_csv(\"/content/sample_data/drugsComTest_raw.csv\")"
      ],
      "execution_count": 1,
      "outputs": []
    },
    {
      "cell_type": "code",
      "metadata": {
        "colab": {
          "base_uri": "https://localhost:8080/"
        },
        "id": "8idM-DrOmAdW",
        "outputId": "6778f4dc-a74f-4e8a-ddf8-aa058a1c06ca"
      },
      "source": [
        "nltk.download('stopwords')\n",
        "nltk.download('punkt')\n",
        "nltk.download('wordnet')\n"
      ],
      "execution_count": 2,
      "outputs": [
        {
          "output_type": "stream",
          "text": [
            "[nltk_data] Downloading package stopwords to /root/nltk_data...\n",
            "[nltk_data]   Unzipping corpora/stopwords.zip.\n",
            "[nltk_data] Downloading package punkt to /root/nltk_data...\n",
            "[nltk_data]   Unzipping tokenizers/punkt.zip.\n",
            "[nltk_data] Downloading package wordnet to /root/nltk_data...\n",
            "[nltk_data]   Unzipping corpora/wordnet.zip.\n"
          ],
          "name": "stdout"
        },
        {
          "output_type": "execute_result",
          "data": {
            "text/plain": [
              "True"
            ]
          },
          "metadata": {
            "tags": []
          },
          "execution_count": 2
        }
      ]
    },
    {
      "cell_type": "code",
      "metadata": {
        "colab": {
          "base_uri": "https://localhost:8080/",
          "height": 289
        },
        "id": "F6a_BWpmzAxC",
        "outputId": "2bc5988d-e973-4d5d-b22d-4eb7665b8ccc"
      },
      "source": [
        "df_Train.head()"
      ],
      "execution_count": 3,
      "outputs": [
        {
          "output_type": "execute_result",
          "data": {
            "text/html": [
              "<div>\n",
              "<style scoped>\n",
              "    .dataframe tbody tr th:only-of-type {\n",
              "        vertical-align: middle;\n",
              "    }\n",
              "\n",
              "    .dataframe tbody tr th {\n",
              "        vertical-align: top;\n",
              "    }\n",
              "\n",
              "    .dataframe thead th {\n",
              "        text-align: right;\n",
              "    }\n",
              "</style>\n",
              "<table border=\"1\" class=\"dataframe\">\n",
              "  <thead>\n",
              "    <tr style=\"text-align: right;\">\n",
              "      <th></th>\n",
              "      <th>uniqueID</th>\n",
              "      <th>drugName</th>\n",
              "      <th>condition</th>\n",
              "      <th>review</th>\n",
              "      <th>rating</th>\n",
              "      <th>date</th>\n",
              "      <th>usefulCount</th>\n",
              "    </tr>\n",
              "  </thead>\n",
              "  <tbody>\n",
              "    <tr>\n",
              "      <th>0</th>\n",
              "      <td>163740</td>\n",
              "      <td>Mirtazapine</td>\n",
              "      <td>Depression</td>\n",
              "      <td>\"I&amp;#039;ve tried a few antidepressants over th...</td>\n",
              "      <td>10</td>\n",
              "      <td>28-Feb-12</td>\n",
              "      <td>22</td>\n",
              "    </tr>\n",
              "    <tr>\n",
              "      <th>1</th>\n",
              "      <td>206473</td>\n",
              "      <td>Mesalamine</td>\n",
              "      <td>Crohn's Disease, Maintenance</td>\n",
              "      <td>\"My son has Crohn&amp;#039;s disease and has done ...</td>\n",
              "      <td>8</td>\n",
              "      <td>17-May-09</td>\n",
              "      <td>17</td>\n",
              "    </tr>\n",
              "    <tr>\n",
              "      <th>2</th>\n",
              "      <td>159672</td>\n",
              "      <td>Bactrim</td>\n",
              "      <td>Urinary Tract Infection</td>\n",
              "      <td>\"Quick reduction of symptoms\"</td>\n",
              "      <td>9</td>\n",
              "      <td>29-Sep-17</td>\n",
              "      <td>3</td>\n",
              "    </tr>\n",
              "    <tr>\n",
              "      <th>3</th>\n",
              "      <td>39293</td>\n",
              "      <td>Contrave</td>\n",
              "      <td>Weight Loss</td>\n",
              "      <td>\"Contrave combines drugs that were used for al...</td>\n",
              "      <td>9</td>\n",
              "      <td>5-Mar-17</td>\n",
              "      <td>35</td>\n",
              "    </tr>\n",
              "    <tr>\n",
              "      <th>4</th>\n",
              "      <td>97768</td>\n",
              "      <td>Cyclafem 1 / 35</td>\n",
              "      <td>Birth Control</td>\n",
              "      <td>\"I have been on this birth control for one cyc...</td>\n",
              "      <td>9</td>\n",
              "      <td>22-Oct-15</td>\n",
              "      <td>4</td>\n",
              "    </tr>\n",
              "  </tbody>\n",
              "</table>\n",
              "</div>"
            ],
            "text/plain": [
              "   uniqueID         drugName  ...       date usefulCount\n",
              "0    163740      Mirtazapine  ...  28-Feb-12          22\n",
              "1    206473       Mesalamine  ...  17-May-09          17\n",
              "2    159672          Bactrim  ...  29-Sep-17           3\n",
              "3     39293         Contrave  ...   5-Mar-17          35\n",
              "4     97768  Cyclafem 1 / 35  ...  22-Oct-15           4\n",
              "\n",
              "[5 rows x 7 columns]"
            ]
          },
          "metadata": {
            "tags": []
          },
          "execution_count": 3
        }
      ]
    },
    {
      "cell_type": "code",
      "metadata": {
        "colab": {
          "base_uri": "https://localhost:8080/",
          "height": 289
        },
        "id": "SODZnmrLzFnB",
        "outputId": "e180db9b-b83e-40cd-8f17-8a621b7e9f20"
      },
      "source": [
        "df_Train.head()"
      ],
      "execution_count": 4,
      "outputs": [
        {
          "output_type": "execute_result",
          "data": {
            "text/html": [
              "<div>\n",
              "<style scoped>\n",
              "    .dataframe tbody tr th:only-of-type {\n",
              "        vertical-align: middle;\n",
              "    }\n",
              "\n",
              "    .dataframe tbody tr th {\n",
              "        vertical-align: top;\n",
              "    }\n",
              "\n",
              "    .dataframe thead th {\n",
              "        text-align: right;\n",
              "    }\n",
              "</style>\n",
              "<table border=\"1\" class=\"dataframe\">\n",
              "  <thead>\n",
              "    <tr style=\"text-align: right;\">\n",
              "      <th></th>\n",
              "      <th>uniqueID</th>\n",
              "      <th>drugName</th>\n",
              "      <th>condition</th>\n",
              "      <th>review</th>\n",
              "      <th>rating</th>\n",
              "      <th>date</th>\n",
              "      <th>usefulCount</th>\n",
              "    </tr>\n",
              "  </thead>\n",
              "  <tbody>\n",
              "    <tr>\n",
              "      <th>0</th>\n",
              "      <td>163740</td>\n",
              "      <td>Mirtazapine</td>\n",
              "      <td>Depression</td>\n",
              "      <td>\"I&amp;#039;ve tried a few antidepressants over th...</td>\n",
              "      <td>10</td>\n",
              "      <td>28-Feb-12</td>\n",
              "      <td>22</td>\n",
              "    </tr>\n",
              "    <tr>\n",
              "      <th>1</th>\n",
              "      <td>206473</td>\n",
              "      <td>Mesalamine</td>\n",
              "      <td>Crohn's Disease, Maintenance</td>\n",
              "      <td>\"My son has Crohn&amp;#039;s disease and has done ...</td>\n",
              "      <td>8</td>\n",
              "      <td>17-May-09</td>\n",
              "      <td>17</td>\n",
              "    </tr>\n",
              "    <tr>\n",
              "      <th>2</th>\n",
              "      <td>159672</td>\n",
              "      <td>Bactrim</td>\n",
              "      <td>Urinary Tract Infection</td>\n",
              "      <td>\"Quick reduction of symptoms\"</td>\n",
              "      <td>9</td>\n",
              "      <td>29-Sep-17</td>\n",
              "      <td>3</td>\n",
              "    </tr>\n",
              "    <tr>\n",
              "      <th>3</th>\n",
              "      <td>39293</td>\n",
              "      <td>Contrave</td>\n",
              "      <td>Weight Loss</td>\n",
              "      <td>\"Contrave combines drugs that were used for al...</td>\n",
              "      <td>9</td>\n",
              "      <td>5-Mar-17</td>\n",
              "      <td>35</td>\n",
              "    </tr>\n",
              "    <tr>\n",
              "      <th>4</th>\n",
              "      <td>97768</td>\n",
              "      <td>Cyclafem 1 / 35</td>\n",
              "      <td>Birth Control</td>\n",
              "      <td>\"I have been on this birth control for one cyc...</td>\n",
              "      <td>9</td>\n",
              "      <td>22-Oct-15</td>\n",
              "      <td>4</td>\n",
              "    </tr>\n",
              "  </tbody>\n",
              "</table>\n",
              "</div>"
            ],
            "text/plain": [
              "   uniqueID         drugName  ...       date usefulCount\n",
              "0    163740      Mirtazapine  ...  28-Feb-12          22\n",
              "1    206473       Mesalamine  ...  17-May-09          17\n",
              "2    159672          Bactrim  ...  29-Sep-17           3\n",
              "3     39293         Contrave  ...   5-Mar-17          35\n",
              "4     97768  Cyclafem 1 / 35  ...  22-Oct-15           4\n",
              "\n",
              "[5 rows x 7 columns]"
            ]
          },
          "metadata": {
            "tags": []
          },
          "execution_count": 4
        }
      ]
    },
    {
      "cell_type": "code",
      "metadata": {
        "id": "vMxJFezmEmXA"
      },
      "source": [
        "df=pd.concat([df_Train,df_Test])"
      ],
      "execution_count": 5,
      "outputs": []
    },
    {
      "cell_type": "code",
      "metadata": {
        "colab": {
          "base_uri": "https://localhost:8080/",
          "height": 294
        },
        "id": "a4PdOcDEGknU",
        "outputId": "cb357238-713a-4bb3-d870-6b7ce6724e8d"
      },
      "source": [
        "df.describe()"
      ],
      "execution_count": 6,
      "outputs": [
        {
          "output_type": "execute_result",
          "data": {
            "text/html": [
              "<div>\n",
              "<style scoped>\n",
              "    .dataframe tbody tr th:only-of-type {\n",
              "        vertical-align: middle;\n",
              "    }\n",
              "\n",
              "    .dataframe tbody tr th {\n",
              "        vertical-align: top;\n",
              "    }\n",
              "\n",
              "    .dataframe thead th {\n",
              "        text-align: right;\n",
              "    }\n",
              "</style>\n",
              "<table border=\"1\" class=\"dataframe\">\n",
              "  <thead>\n",
              "    <tr style=\"text-align: right;\">\n",
              "      <th></th>\n",
              "      <th>uniqueID</th>\n",
              "      <th>rating</th>\n",
              "      <th>usefulCount</th>\n",
              "    </tr>\n",
              "  </thead>\n",
              "  <tbody>\n",
              "    <tr>\n",
              "      <th>count</th>\n",
              "      <td>107532.000000</td>\n",
              "      <td>107532.000000</td>\n",
              "      <td>107532.000000</td>\n",
              "    </tr>\n",
              "    <tr>\n",
              "      <th>mean</th>\n",
              "      <td>116386.701187</td>\n",
              "      <td>6.976900</td>\n",
              "      <td>27.989752</td>\n",
              "    </tr>\n",
              "    <tr>\n",
              "      <th>std</th>\n",
              "      <td>67017.428260</td>\n",
              "      <td>3.285192</td>\n",
              "      <td>36.172665</td>\n",
              "    </tr>\n",
              "    <tr>\n",
              "      <th>min</th>\n",
              "      <td>0.000000</td>\n",
              "      <td>1.000000</td>\n",
              "      <td>0.000000</td>\n",
              "    </tr>\n",
              "    <tr>\n",
              "      <th>25%</th>\n",
              "      <td>58272.000000</td>\n",
              "      <td>4.000000</td>\n",
              "      <td>6.000000</td>\n",
              "    </tr>\n",
              "    <tr>\n",
              "      <th>50%</th>\n",
              "      <td>116248.500000</td>\n",
              "      <td>8.000000</td>\n",
              "      <td>16.000000</td>\n",
              "    </tr>\n",
              "    <tr>\n",
              "      <th>75%</th>\n",
              "      <td>174588.000000</td>\n",
              "      <td>10.000000</td>\n",
              "      <td>36.000000</td>\n",
              "    </tr>\n",
              "    <tr>\n",
              "      <th>max</th>\n",
              "      <td>232284.000000</td>\n",
              "      <td>10.000000</td>\n",
              "      <td>949.000000</td>\n",
              "    </tr>\n",
              "  </tbody>\n",
              "</table>\n",
              "</div>"
            ],
            "text/plain": [
              "            uniqueID         rating    usefulCount\n",
              "count  107532.000000  107532.000000  107532.000000\n",
              "mean   116386.701187       6.976900      27.989752\n",
              "std     67017.428260       3.285192      36.172665\n",
              "min         0.000000       1.000000       0.000000\n",
              "25%     58272.000000       4.000000       6.000000\n",
              "50%    116248.500000       8.000000      16.000000\n",
              "75%    174588.000000      10.000000      36.000000\n",
              "max    232284.000000      10.000000     949.000000"
            ]
          },
          "metadata": {
            "tags": []
          },
          "execution_count": 6
        }
      ]
    },
    {
      "cell_type": "code",
      "metadata": {
        "colab": {
          "base_uri": "https://localhost:8080/"
        },
        "id": "bmzfyPcPGt2C",
        "outputId": "555d1d3b-c1da-4bd7-f28c-90d0e6a49352"
      },
      "source": [
        "print(df.isnull().sum())"
      ],
      "execution_count": 7,
      "outputs": [
        {
          "output_type": "stream",
          "text": [
            "uniqueID         0\n",
            "drugName         0\n",
            "condition      590\n",
            "review           0\n",
            "rating           0\n",
            "date             0\n",
            "usefulCount      0\n",
            "dtype: int64\n"
          ],
          "name": "stdout"
        }
      ]
    },
    {
      "cell_type": "code",
      "metadata": {
        "colab": {
          "base_uri": "https://localhost:8080/"
        },
        "id": "c3RD0C8SHNUB",
        "outputId": "20f8d91d-dc2f-413f-b6a6-a5550cad518e"
      },
      "source": [
        "df[\"condition\"].value_counts()"
      ],
      "execution_count": 8,
      "outputs": [
        {
          "output_type": "execute_result",
          "data": {
            "text/plain": [
              "Birth Control                                                19296\n",
              "Depression                                                    6190\n",
              "Pain                                                          4200\n",
              "Anxiety                                                       3816\n",
              "Acne                                                          3694\n",
              "                                                             ...  \n",
              "Head and Neck Cance                                              2\n",
              "Peripheral Arterial Disease                                      2\n",
              "Tympanostomy Tube Placement Surgery                              2\n",
              "Chronic Inflammatory Demyelinating Polyradiculoneuropathy        2\n",
              "Neutropenia                                                      2\n",
              "Name: condition, Length: 708, dtype: int64"
            ]
          },
          "metadata": {
            "tags": []
          },
          "execution_count": 8
        }
      ]
    },
    {
      "cell_type": "code",
      "metadata": {
        "id": "VvEHj2xPYomi"
      },
      "source": [
        "df=df[df[\"condition\"].str.contains(\"span\")==False]"
      ],
      "execution_count": 9,
      "outputs": []
    },
    {
      "cell_type": "markdown",
      "metadata": {
        "id": "AOUGzDVPrvp8"
      },
      "source": [
        "**Data Visualization**"
      ]
    },
    {
      "cell_type": "code",
      "metadata": {
        "colab": {
          "base_uri": "https://localhost:8080/",
          "height": 505
        },
        "id": "_fXIKIqdHb5-",
        "outputId": "01514709-b476-4df4-83c2-af7775028c2b"
      },
      "source": [
        "plt.figure(figsize = (30,15))\n",
        "plt.bar(df[\"drugName\"].value_counts().index[0:20],df[\"drugName\"].value_counts().values[0:20])\n",
        "plt.title('Top-20 frequently occuring Medicines')\n",
        "plt.xlabel('Medicines')\n",
        "plt.xticks(rotation = 45)\n",
        "plt.ylabel('count')\n",
        "plt.show()"
      ],
      "execution_count": 10,
      "outputs": [
        {
          "output_type": "display_data",
          "data": {
            "image/png": "[encoded data removed]",
            "text/plain": [
              "<Figure size 2160x1080 with 1 Axes>"
            ]
          },
          "metadata": {
            "tags": [],
            "needs_background": "light"
          }
        }
      ]
    },
    {
      "cell_type": "code",
      "metadata": {
        "colab": {
          "base_uri": "https://localhost:8080/",
          "height": 494
        },
        "id": "0QstgVTgH-Ol",
        "outputId": "5a587b9b-f29b-4422-c137-d0826fdbfade"
      },
      "source": [
        "from matplotlib import pyplot as plt\n",
        "plt.figure(figsize = (30,15))\n",
        "plt.bar(df[\"condition\"].value_counts().index[0:20],df[\"condition\"].value_counts().values[0:20],color='red')\n",
        "plt.title('Top-20 frequently occuring Conditions')\n",
        "plt.xlabel('Conditions')\n",
        "plt.xticks(rotation = 45)\n",
        "plt.ylabel('Count')\n",
        "plt.show()"
      ],
      "execution_count": 11,
      "outputs": [
        {
          "output_type": "display_data",
          "data": {
            "image/png": "[encoded data removed]",
            "text/plain": [
              "<Figure size 2160x1080 with 1 Axes>"
            ]
          },
          "metadata": {
            "tags": [],
            "needs_background": "light"
          }
        }
      ]
    },
    {
      "cell_type": "code",
      "metadata": {
        "id": "MdixxemIoCHJ"
      },
      "source": [
        "# converting the date into datetime format\n",
        "df['date'] = pd.to_datetime(df['date'], errors = 'coerce')\n",
        "\n",
        "# now extracting year from date\n",
        "df['Year'] = df['date'].dt.year\n",
        "\n",
        "# extracting the month from the date\n",
        "df['month'] = df['date'].dt.month\n",
        "\n",
        "# extracting the days from the date\n",
        "df['day'] = df['date'].dt.day"
      ],
      "execution_count": 12,
      "outputs": []
    },
    {
      "cell_type": "code",
      "metadata": {
        "colab": {
          "base_uri": "https://localhost:8080/",
          "height": 406
        },
        "id": "623hmDkBnhmR",
        "outputId": "09b7085b-df3d-41ad-8d79-5016f6cf70cb"
      },
      "source": [
        "# looking at the no. of reviews in each of the year\n",
        "\n",
        "plt.rcParams['figure.figsize'] = (19, 8)\n",
        "sns.countplot(df['Year'], palette ='dark')\n",
        "plt.title('The No. of Reviews in each year', fontsize = 30)\n",
        "plt.xlabel('Year', fontsize = 15)\n",
        "plt.ylabel('Count of Reviews', fontsize = 15)\n",
        "plt.show()"
      ],
      "execution_count": 13,
      "outputs": [
        {
          "output_type": "display_data",
          "data": {
            "image/png": "[encoded data removed]",
            "text/plain": [
              "<Figure size 1368x576 with 1 Axes>"
            ]
          },
          "metadata": {
            "tags": [],
            "needs_background": "light"
          }
        }
      ]
    },
    {
      "cell_type": "code",
      "metadata": {
        "colab": {
          "base_uri": "https://localhost:8080/",
          "height": 407
        },
        "id": "6Yc548HDof63",
        "outputId": "f4c1f5e7-bd2a-4fa3-dbda-9d38fdcea2da"
      },
      "source": [
        "plt.rcParams['figure.figsize'] = (19, 8)\n",
        "sns.countplot(df['month'], palette ='pastel')\n",
        "plt.title('The No. of Reviews in each Month', fontsize = 30)\n",
        "plt.xlabel('Months', fontsize = 15)\n",
        "plt.ylabel('Ratings', fontsize = 15)\n",
        "plt.show()"
      ],
      "execution_count": 14,
      "outputs": [
        {
          "output_type": "display_data",
          "data": {
            "image/png": "[encoded data removed]",
            "text/plain": [
              "<Figure size 1368x576 with 1 Axes>"
            ]
          },
          "metadata": {
            "tags": [],
            "needs_background": "light"
          }
        }
      ]
    },
    {
      "cell_type": "code",
      "metadata": {
        "colab": {
          "base_uri": "https://localhost:8080/"
        },
        "id": "U6bkAAL3p8LF",
        "outputId": "07b1103f-fda6-461f-b63a-e806a71893c1"
      },
      "source": [
        "df[\"rating\"].value_counts()"
      ],
      "execution_count": 15,
      "outputs": [
        {
          "output_type": "execute_result",
          "data": {
            "text/plain": [
              "10    33736\n",
              "9     18144\n",
              "1     14460\n",
              "8     12174\n",
              "7      6112\n",
              "5      5344\n",
              "2      4616\n",
              "3      4370\n",
              "6      4180\n",
              "4      3264\n",
              "Name: rating, dtype: int64"
            ]
          },
          "metadata": {
            "tags": []
          },
          "execution_count": 15
        }
      ]
    },
    {
      "cell_type": "code",
      "metadata": {
        "colab": {
          "base_uri": "https://localhost:8080/",
          "height": 603
        },
        "id": "89FTsE_GoqX5",
        "outputId": "4f1728fe-3487-4c09-8b8e-df99a7794a66"
      },
      "source": [
        "colors = ['pink', 'cyan', 'maroon',  'magenta', 'orange', 'lightblue', 'lightgreen', 'yellow']\n",
        "labels = \"10\", \"9\", \"1\", \"8\", \"7\", \"5\",\"2\",\"3\",\"6\", \"4\"\n",
        "size=[33736, 18144, 14460, 12174,  6112,  5344,  4616,  4370,  4180,\n",
        "        3264]\n",
        "my_circle = plt.Circle((0, 0), 0.7, color = 'white')\n",
        "\n",
        "plt.rcParams['figure.figsize'] = (10, 10)\n",
        "plt.pie(size, colors = colors, labels = labels, autopct = '%.2f%%')\n",
        "plt.axis('off')\n",
        "plt.title('A Pie Chart Representing the Share of Ratings', fontsize = 30)\n",
        "p = plt.gcf()\n",
        "plt.gca().add_artist(my_circle)\n",
        "plt.legend()\n",
        "plt.show()"
      ],
      "execution_count": 16,
      "outputs": [
        {
          "output_type": "display_data",
          "data": {
            "image/png": "[encoded data removed]",
            "text/plain": [
              "<Figure size 720x720 with 1 Axes>"
            ]
          },
          "metadata": {
            "tags": []
          }
        }
      ]
    },
    {
      "cell_type": "code",
      "metadata": {
        "colab": {
          "base_uri": "https://localhost:8080/",
          "height": 903
        },
        "id": "9CinqsFNiNQJ",
        "outputId": "40c3fd3a-05df-4621-d08a-33b11da4178b"
      },
      "source": [
        "stemmer=PorterStemmer()\n",
        "lemmatizer = WordNetLemmatizer() \n",
        "stop_words=stopwords.words(\"english\")\n",
        "sentence_filter_stemming=[]\n",
        "sentence_filter_Lemmatization=[]\n",
        "final_sentence_stemming=[]\n",
        "final_sentence_lemmatize=[]\n",
        "#Removing noise, such as special characters and punctuations\n",
        "df['Cleaned_Reviews'] = df['review'].str.replace(r\"\\W\", \" \").str.strip()#To remove special characters and punctuations\n",
        "df['Cleaned_Reviews']= df['Cleaned_Reviews'].str.replace(r'\\d+',\"\")#To remove Numbers\n",
        "for a in df['Cleaned_Reviews']:\n",
        "    splitting_words=word_tokenize(a)\n",
        "    for b in splitting_words:\n",
        "        if b not in stop_words:#Removing Stop Words\n",
        "            lemmatization_words=lemmatizer.lemmatize(b.lower())#Lemmatization\n",
        "            sentence_filter_Lemmatization.append(lemmatization_words)\n",
        "    final_sentence_lemmatize.append(' '.join(sentence_filter_Lemmatization))\n",
        "    sentence_filter_Lemmatization.clear()\n",
        "df['Lemmatization']=pd.DataFrame(final_sentence_lemmatize)\n",
        "df\n"
      ],
      "execution_count": 17,
      "outputs": [
        {
          "output_type": "execute_result",
          "data": {
            "text/html": [
              "<div>\n",
              "<style scoped>\n",
              "    .dataframe tbody tr th:only-of-type {\n",
              "        vertical-align: middle;\n",
              "    }\n",
              "\n",
              "    .dataframe tbody tr th {\n",
              "        vertical-align: top;\n",
              "    }\n",
              "\n",
              "    .dataframe thead th {\n",
              "        text-align: right;\n",
              "    }\n",
              "</style>\n",
              "<table border=\"1\" class=\"dataframe\">\n",
              "  <thead>\n",
              "    <tr style=\"text-align: right;\">\n",
              "      <th></th>\n",
              "      <th>uniqueID</th>\n",
              "      <th>drugName</th>\n",
              "      <th>condition</th>\n",
              "      <th>review</th>\n",
              "      <th>rating</th>\n",
              "      <th>date</th>\n",
              "      <th>usefulCount</th>\n",
              "      <th>Year</th>\n",
              "      <th>month</th>\n",
              "      <th>day</th>\n",
              "      <th>Cleaned_Reviews</th>\n",
              "      <th>Lemmatization</th>\n",
              "    </tr>\n",
              "  </thead>\n",
              "  <tbody>\n",
              "    <tr>\n",
              "      <th>0</th>\n",
              "      <td>163740</td>\n",
              "      <td>Mirtazapine</td>\n",
              "      <td>Depression</td>\n",
              "      <td>\"I&amp;#039;ve tried a few antidepressants over th...</td>\n",
              "      <td>10</td>\n",
              "      <td>2012-02-28</td>\n",
              "      <td>22</td>\n",
              "      <td>2012</td>\n",
              "      <td>2</td>\n",
              "      <td>28</td>\n",
              "      <td>I   ve tried a few antidepressants over the ye...</td>\n",
              "      <td>i tried antidepressant year citalopram fluoxet...</td>\n",
              "    </tr>\n",
              "    <tr>\n",
              "      <th>1</th>\n",
              "      <td>206473</td>\n",
              "      <td>Mesalamine</td>\n",
              "      <td>Crohn's Disease, Maintenance</td>\n",
              "      <td>\"My son has Crohn&amp;#039;s disease and has done ...</td>\n",
              "      <td>8</td>\n",
              "      <td>2009-05-17</td>\n",
              "      <td>17</td>\n",
              "      <td>2009</td>\n",
              "      <td>5</td>\n",
              "      <td>17</td>\n",
              "      <td>My son has Crohn   s disease and has done very...</td>\n",
              "      <td>my son crohn disease done well asacol he compl...</td>\n",
              "    </tr>\n",
              "    <tr>\n",
              "      <th>2</th>\n",
              "      <td>159672</td>\n",
              "      <td>Bactrim</td>\n",
              "      <td>Urinary Tract Infection</td>\n",
              "      <td>\"Quick reduction of symptoms\"</td>\n",
              "      <td>9</td>\n",
              "      <td>2017-09-29</td>\n",
              "      <td>3</td>\n",
              "      <td>2017</td>\n",
              "      <td>9</td>\n",
              "      <td>29</td>\n",
              "      <td>Quick reduction of symptoms</td>\n",
              "      <td>quick reduction symptom</td>\n",
              "    </tr>\n",
              "    <tr>\n",
              "      <th>3</th>\n",
              "      <td>39293</td>\n",
              "      <td>Contrave</td>\n",
              "      <td>Weight Loss</td>\n",
              "      <td>\"Contrave combines drugs that were used for al...</td>\n",
              "      <td>9</td>\n",
              "      <td>2017-03-05</td>\n",
              "      <td>35</td>\n",
              "      <td>2017</td>\n",
              "      <td>3</td>\n",
              "      <td>5</td>\n",
              "      <td>Contrave combines drugs that were used for alc...</td>\n",
              "      <td>contrave combine drug used alcohol smoking opi...</td>\n",
              "    </tr>\n",
              "    <tr>\n",
              "      <th>4</th>\n",
              "      <td>97768</td>\n",
              "      <td>Cyclafem 1 / 35</td>\n",
              "      <td>Birth Control</td>\n",
              "      <td>\"I have been on this birth control for one cyc...</td>\n",
              "      <td>9</td>\n",
              "      <td>2015-10-22</td>\n",
              "      <td>4</td>\n",
              "      <td>2015</td>\n",
              "      <td>10</td>\n",
              "      <td>22</td>\n",
              "      <td>I have been on this birth control for one cycl...</td>\n",
              "      <td>i birth control one cycle after reading review...</td>\n",
              "    </tr>\n",
              "    <tr>\n",
              "      <th>...</th>\n",
              "      <td>...</td>\n",
              "      <td>...</td>\n",
              "      <td>...</td>\n",
              "      <td>...</td>\n",
              "      <td>...</td>\n",
              "      <td>...</td>\n",
              "      <td>...</td>\n",
              "      <td>...</td>\n",
              "      <td>...</td>\n",
              "      <td>...</td>\n",
              "      <td>...</td>\n",
              "      <td>...</td>\n",
              "    </tr>\n",
              "    <tr>\n",
              "      <th>53761</th>\n",
              "      <td>159999</td>\n",
              "      <td>Tamoxifen</td>\n",
              "      <td>Breast Cancer, Prevention</td>\n",
              "      <td>\"I have taken Tamoxifen for 5 years. Side effe...</td>\n",
              "      <td>10</td>\n",
              "      <td>2014-09-13</td>\n",
              "      <td>43</td>\n",
              "      <td>2014</td>\n",
              "      <td>9</td>\n",
              "      <td>13</td>\n",
              "      <td>I have taken Tamoxifen for  years  Side effect...</td>\n",
              "      <td>i androgel two month i say best i felt last ye...</td>\n",
              "    </tr>\n",
              "    <tr>\n",
              "      <th>53762</th>\n",
              "      <td>140714</td>\n",
              "      <td>Escitalopram</td>\n",
              "      <td>Anxiety</td>\n",
              "      <td>\"I&amp;#039;ve been taking Lexapro (escitaploprgra...</td>\n",
              "      <td>9</td>\n",
              "      <td>2016-10-08</td>\n",
              "      <td>11</td>\n",
              "      <td>2016</td>\n",
              "      <td>10</td>\n",
              "      <td>8</td>\n",
              "      <td>I   ve been taking Lexapro  escitaploprgram  s...</td>\n",
              "      <td>for year i i ravenous hunger low blood sugar c...</td>\n",
              "    </tr>\n",
              "    <tr>\n",
              "      <th>53763</th>\n",
              "      <td>130945</td>\n",
              "      <td>Levonorgestrel</td>\n",
              "      <td>Birth Control</td>\n",
              "      <td>\"I&amp;#039;m married, 34 years old and I have no ...</td>\n",
              "      <td>8</td>\n",
              "      <td>2010-11-15</td>\n",
              "      <td>7</td>\n",
              "      <td>2010</td>\n",
              "      <td>11</td>\n",
              "      <td>15</td>\n",
              "      <td>I   m married   years old and I have no kids  ...</td>\n",
              "      <td>so much better oxycontin osteoarthritis s i jo...</td>\n",
              "    </tr>\n",
              "    <tr>\n",
              "      <th>53764</th>\n",
              "      <td>47656</td>\n",
              "      <td>Tapentadol</td>\n",
              "      <td>Pain</td>\n",
              "      <td>\"I was prescribed Nucynta for severe neck/shou...</td>\n",
              "      <td>1</td>\n",
              "      <td>2011-11-28</td>\n",
              "      <td>20</td>\n",
              "      <td>2011</td>\n",
              "      <td>11</td>\n",
              "      <td>28</td>\n",
              "      <td>I was prescribed Nucynta for severe neck shoul...</td>\n",
              "      <td>i taking lexapro year seems help lot social an...</td>\n",
              "    </tr>\n",
              "    <tr>\n",
              "      <th>53765</th>\n",
              "      <td>113712</td>\n",
              "      <td>Arthrotec</td>\n",
              "      <td>Sciatica</td>\n",
              "      <td>\"It works!!!\"</td>\n",
              "      <td>9</td>\n",
              "      <td>2009-09-13</td>\n",
              "      <td>46</td>\n",
              "      <td>2009</td>\n",
              "      <td>9</td>\n",
              "      <td>13</td>\n",
              "      <td>It works</td>\n",
              "      <td>fast effective</td>\n",
              "    </tr>\n",
              "  </tbody>\n",
              "</table>\n",
              "<p>106400 rows × 12 columns</p>\n",
              "</div>"
            ],
            "text/plain": [
              "       uniqueID  ...                                      Lemmatization\n",
              "0        163740  ...  i tried antidepressant year citalopram fluoxet...\n",
              "1        206473  ...  my son crohn disease done well asacol he compl...\n",
              "2        159672  ...                            quick reduction symptom\n",
              "3         39293  ...  contrave combine drug used alcohol smoking opi...\n",
              "4         97768  ...  i birth control one cycle after reading review...\n",
              "...         ...  ...                                                ...\n",
              "53761    159999  ...  i androgel two month i say best i felt last ye...\n",
              "53762    140714  ...  for year i i ravenous hunger low blood sugar c...\n",
              "53763    130945  ...  so much better oxycontin osteoarthritis s i jo...\n",
              "53764     47656  ...  i taking lexapro year seems help lot social an...\n",
              "53765    113712  ...                                     fast effective\n",
              "\n",
              "[106400 rows x 12 columns]"
            ]
          },
          "metadata": {
            "tags": []
          },
          "execution_count": 17
        }
      ]
    },
    {
      "cell_type": "code",
      "metadata": {
        "id": "OxuijaDhafIU"
      },
      "source": [
        "\n",
        "def sentiment(review):\n",
        "    # Sentiment polarity of the reviews\n",
        "    pol = []\n",
        "    for i in review:\n",
        "        analysis = TextBlob(i)\n",
        "        pol.append(analysis.sentiment.polarity)\n",
        "    return pol"
      ],
      "execution_count": 19,
      "outputs": []
    },
    {
      "cell_type": "code",
      "metadata": {
        "id": "K7SQEcMvXcEr"
      },
      "source": [
        "df['sentiment'] = sentiment(df[\"Cleaned_Reviews\"])"
      ],
      "execution_count": 20,
      "outputs": []
    },
    {
      "cell_type": "code",
      "metadata": {
        "id": "_HGfOPadtPkO"
      },
      "source": [
        "\n",
        "df['sentiment_final'] = df['sentiment'].apply(lambda x: math.ceil(x*10))"
      ],
      "execution_count": 21,
      "outputs": []
    },
    {
      "cell_type": "code",
      "metadata": {
        "id": "yN5bpvcTts0C"
      },
      "source": [
        "df.loc[(df['sentiment_final'] == -10) | (df['sentiment_final'] == -9) , 'updated_sentiment'] = 1\n",
        "df.loc[(df['sentiment_final'] == -8) | (df['sentiment_final'] == -7) , 'updated_sentiment'] = 2\n",
        "df.loc[(df['sentiment_final'] == -6) | (df['sentiment_final'] == -5) , 'updated_sentiment'] = 3\n",
        "df.loc[(df['sentiment_final'] == -4) | (df['sentiment_final'] == -3) , 'updated_sentiment'] = 4\n",
        "df.loc[(df['sentiment_final'] == -2) | (df['sentiment_final'] == -1) | (df['sentiment_final'] == 0) , 'updated_sentiment'] = 5\n",
        "df.loc[(df['sentiment_final'] == 0) | (df['sentiment_final'] == 1) | (df['sentiment_final'] == 2) , 'updated_sentiment'] = 6\n",
        "df.loc[(df['sentiment_final'] == 3) | (df['sentiment_final'] == 4) , 'updated_sentiment'] = 7\n",
        "df.loc[(df['sentiment_final'] == 5) | (df['sentiment_final'] == 6) , 'updated_sentiment'] = 8\n",
        "df.loc[(df['sentiment_final'] == 7) | (df['sentiment_final'] == 8) , 'updated_sentiment'] = 9\n",
        "df.loc[(df['sentiment_final'] == 9) | (df['sentiment_final'] == 10) , 'updated_sentiment'] = 10"
      ],
      "execution_count": 22,
      "outputs": []
    },
    {
      "cell_type": "code",
      "metadata": {
        "id": "uJaGItswvKS4"
      },
      "source": [
        "df = df.rename(columns={'updated_sentiment':'Sentiment'})\n",
        "df = df.drop(columns=['sentiment'])"
      ],
      "execution_count": 23,
      "outputs": []
    },
    {
      "cell_type": "code",
      "metadata": {
        "colab": {
          "base_uri": "https://localhost:8080/",
          "height": 903
        },
        "id": "nZ0T9e9dBjgY",
        "outputId": "3c90a0c9-882b-47e5-9235-e62911d6b589"
      },
      "source": [
        "df"
      ],
      "execution_count": 33,
      "outputs": [
        {
          "output_type": "execute_result",
          "data": {
            "text/html": [
              "<div>\n",
              "<style scoped>\n",
              "    .dataframe tbody tr th:only-of-type {\n",
              "        vertical-align: middle;\n",
              "    }\n",
              "\n",
              "    .dataframe tbody tr th {\n",
              "        vertical-align: top;\n",
              "    }\n",
              "\n",
              "    .dataframe thead th {\n",
              "        text-align: right;\n",
              "    }\n",
              "</style>\n",
              "<table border=\"1\" class=\"dataframe\">\n",
              "  <thead>\n",
              "    <tr style=\"text-align: right;\">\n",
              "      <th></th>\n",
              "      <th>uniqueID</th>\n",
              "      <th>drugName</th>\n",
              "      <th>condition</th>\n",
              "      <th>review</th>\n",
              "      <th>rating</th>\n",
              "      <th>date</th>\n",
              "      <th>usefulCount</th>\n",
              "      <th>Year</th>\n",
              "      <th>month</th>\n",
              "      <th>day</th>\n",
              "      <th>Cleaned_Reviews</th>\n",
              "      <th>Lemmatization</th>\n",
              "      <th>sentiment_final</th>\n",
              "      <th>Sentiment</th>\n",
              "    </tr>\n",
              "  </thead>\n",
              "  <tbody>\n",
              "    <tr>\n",
              "      <th>0</th>\n",
              "      <td>163740</td>\n",
              "      <td>Mirtazapine</td>\n",
              "      <td>Depression</td>\n",
              "      <td>\"I&amp;#039;ve tried a few antidepressants over th...</td>\n",
              "      <td>10</td>\n",
              "      <td>2012-02-28</td>\n",
              "      <td>22</td>\n",
              "      <td>2012</td>\n",
              "      <td>2</td>\n",
              "      <td>28</td>\n",
              "      <td>I   ve tried a few antidepressants over the ye...</td>\n",
              "      <td>i tried antidepressant year citalopram fluoxet...</td>\n",
              "      <td>0</td>\n",
              "      <td>6.0</td>\n",
              "    </tr>\n",
              "    <tr>\n",
              "      <th>1</th>\n",
              "      <td>206473</td>\n",
              "      <td>Mesalamine</td>\n",
              "      <td>Crohn's Disease, Maintenance</td>\n",
              "      <td>\"My son has Crohn&amp;#039;s disease and has done ...</td>\n",
              "      <td>8</td>\n",
              "      <td>2009-05-17</td>\n",
              "      <td>17</td>\n",
              "      <td>2009</td>\n",
              "      <td>5</td>\n",
              "      <td>17</td>\n",
              "      <td>My son has Crohn   s disease and has done very...</td>\n",
              "      <td>my son crohn disease done well asacol he compl...</td>\n",
              "      <td>6</td>\n",
              "      <td>8.0</td>\n",
              "    </tr>\n",
              "    <tr>\n",
              "      <th>2</th>\n",
              "      <td>159672</td>\n",
              "      <td>Bactrim</td>\n",
              "      <td>Urinary Tract Infection</td>\n",
              "      <td>\"Quick reduction of symptoms\"</td>\n",
              "      <td>9</td>\n",
              "      <td>2017-09-29</td>\n",
              "      <td>3</td>\n",
              "      <td>2017</td>\n",
              "      <td>9</td>\n",
              "      <td>29</td>\n",
              "      <td>Quick reduction of symptoms</td>\n",
              "      <td>quick reduction symptom</td>\n",
              "      <td>4</td>\n",
              "      <td>7.0</td>\n",
              "    </tr>\n",
              "    <tr>\n",
              "      <th>3</th>\n",
              "      <td>39293</td>\n",
              "      <td>Contrave</td>\n",
              "      <td>Weight Loss</td>\n",
              "      <td>\"Contrave combines drugs that were used for al...</td>\n",
              "      <td>9</td>\n",
              "      <td>2017-03-05</td>\n",
              "      <td>35</td>\n",
              "      <td>2017</td>\n",
              "      <td>3</td>\n",
              "      <td>5</td>\n",
              "      <td>Contrave combines drugs that were used for alc...</td>\n",
              "      <td>contrave combine drug used alcohol smoking opi...</td>\n",
              "      <td>2</td>\n",
              "      <td>6.0</td>\n",
              "    </tr>\n",
              "    <tr>\n",
              "      <th>4</th>\n",
              "      <td>97768</td>\n",
              "      <td>Cyclafem 1 / 35</td>\n",
              "      <td>Birth Control</td>\n",
              "      <td>\"I have been on this birth control for one cyc...</td>\n",
              "      <td>9</td>\n",
              "      <td>2015-10-22</td>\n",
              "      <td>4</td>\n",
              "      <td>2015</td>\n",
              "      <td>10</td>\n",
              "      <td>22</td>\n",
              "      <td>I have been on this birth control for one cycl...</td>\n",
              "      <td>i birth control one cycle after reading review...</td>\n",
              "      <td>3</td>\n",
              "      <td>7.0</td>\n",
              "    </tr>\n",
              "    <tr>\n",
              "      <th>...</th>\n",
              "      <td>...</td>\n",
              "      <td>...</td>\n",
              "      <td>...</td>\n",
              "      <td>...</td>\n",
              "      <td>...</td>\n",
              "      <td>...</td>\n",
              "      <td>...</td>\n",
              "      <td>...</td>\n",
              "      <td>...</td>\n",
              "      <td>...</td>\n",
              "      <td>...</td>\n",
              "      <td>...</td>\n",
              "      <td>...</td>\n",
              "      <td>...</td>\n",
              "    </tr>\n",
              "    <tr>\n",
              "      <th>53761</th>\n",
              "      <td>159999</td>\n",
              "      <td>Tamoxifen</td>\n",
              "      <td>Breast Cancer, Prevention</td>\n",
              "      <td>\"I have taken Tamoxifen for 5 years. Side effe...</td>\n",
              "      <td>10</td>\n",
              "      <td>2014-09-13</td>\n",
              "      <td>43</td>\n",
              "      <td>2014</td>\n",
              "      <td>9</td>\n",
              "      <td>13</td>\n",
              "      <td>I have taken Tamoxifen for  years  Side effect...</td>\n",
              "      <td>i androgel two month i say best i felt last ye...</td>\n",
              "      <td>1</td>\n",
              "      <td>6.0</td>\n",
              "    </tr>\n",
              "    <tr>\n",
              "      <th>53762</th>\n",
              "      <td>140714</td>\n",
              "      <td>Escitalopram</td>\n",
              "      <td>Anxiety</td>\n",
              "      <td>\"I&amp;#039;ve been taking Lexapro (escitaploprgra...</td>\n",
              "      <td>9</td>\n",
              "      <td>2016-10-08</td>\n",
              "      <td>11</td>\n",
              "      <td>2016</td>\n",
              "      <td>10</td>\n",
              "      <td>8</td>\n",
              "      <td>I   ve been taking Lexapro  escitaploprgram  s...</td>\n",
              "      <td>for year i i ravenous hunger low blood sugar c...</td>\n",
              "      <td>2</td>\n",
              "      <td>6.0</td>\n",
              "    </tr>\n",
              "    <tr>\n",
              "      <th>53763</th>\n",
              "      <td>130945</td>\n",
              "      <td>Levonorgestrel</td>\n",
              "      <td>Birth Control</td>\n",
              "      <td>\"I&amp;#039;m married, 34 years old and I have no ...</td>\n",
              "      <td>8</td>\n",
              "      <td>2010-11-15</td>\n",
              "      <td>7</td>\n",
              "      <td>2010</td>\n",
              "      <td>11</td>\n",
              "      <td>15</td>\n",
              "      <td>I   m married   years old and I have no kids  ...</td>\n",
              "      <td>so much better oxycontin osteoarthritis s i jo...</td>\n",
              "      <td>0</td>\n",
              "      <td>6.0</td>\n",
              "    </tr>\n",
              "    <tr>\n",
              "      <th>53764</th>\n",
              "      <td>47656</td>\n",
              "      <td>Tapentadol</td>\n",
              "      <td>Pain</td>\n",
              "      <td>\"I was prescribed Nucynta for severe neck/shou...</td>\n",
              "      <td>1</td>\n",
              "      <td>2011-11-28</td>\n",
              "      <td>20</td>\n",
              "      <td>2011</td>\n",
              "      <td>11</td>\n",
              "      <td>28</td>\n",
              "      <td>I was prescribed Nucynta for severe neck shoul...</td>\n",
              "      <td>i taking lexapro year seems help lot social an...</td>\n",
              "      <td>0</td>\n",
              "      <td>6.0</td>\n",
              "    </tr>\n",
              "    <tr>\n",
              "      <th>53765</th>\n",
              "      <td>113712</td>\n",
              "      <td>Arthrotec</td>\n",
              "      <td>Sciatica</td>\n",
              "      <td>\"It works!!!\"</td>\n",
              "      <td>9</td>\n",
              "      <td>2009-09-13</td>\n",
              "      <td>46</td>\n",
              "      <td>2009</td>\n",
              "      <td>9</td>\n",
              "      <td>13</td>\n",
              "      <td>It works</td>\n",
              "      <td>fast effective</td>\n",
              "      <td>0</td>\n",
              "      <td>6.0</td>\n",
              "    </tr>\n",
              "  </tbody>\n",
              "</table>\n",
              "<p>106400 rows × 14 columns</p>\n",
              "</div>"
            ],
            "text/plain": [
              "       uniqueID         drugName  ... sentiment_final Sentiment\n",
              "0        163740      Mirtazapine  ...               0       6.0\n",
              "1        206473       Mesalamine  ...               6       8.0\n",
              "2        159672          Bactrim  ...               4       7.0\n",
              "3         39293         Contrave  ...               2       6.0\n",
              "4         97768  Cyclafem 1 / 35  ...               3       7.0\n",
              "...         ...              ...  ...             ...       ...\n",
              "53761    159999        Tamoxifen  ...               1       6.0\n",
              "53762    140714     Escitalopram  ...               2       6.0\n",
              "53763    130945   Levonorgestrel  ...               0       6.0\n",
              "53764     47656       Tapentadol  ...               0       6.0\n",
              "53765    113712        Arthrotec  ...               0       6.0\n",
              "\n",
              "[106400 rows x 14 columns]"
            ]
          },
          "metadata": {
            "tags": []
          },
          "execution_count": 33
        }
      ]
    },
    {
      "cell_type": "code",
      "metadata": {
        "id": "avHGlguqAzlM"
      },
      "source": [
        "df.to_csv(\"sentiment_data.csv\")"
      ],
      "execution_count": 32,
      "outputs": []
    },
    {
      "cell_type": "code",
      "metadata": {
        "colab": {
          "base_uri": "https://localhost:8080/"
        },
        "id": "2mgPI9bZvbiL",
        "outputId": "cc34108d-b8ca-4d1c-8a9f-f63f7195b97c"
      },
      "source": [
        "df[\"Lemmatization\"]"
      ],
      "execution_count": 24,
      "outputs": [
        {
          "output_type": "execute_result",
          "data": {
            "text/plain": [
              "0        i tried antidepressant year citalopram fluoxet...\n",
              "1        my son crohn disease done well asacol he compl...\n",
              "2                                  quick reduction symptom\n",
              "3        contrave combine drug used alcohol smoking opi...\n",
              "4        i birth control one cycle after reading review...\n",
              "                               ...                        \n",
              "53761    i androgel two month i say best i felt last ye...\n",
              "53762    for year i i ravenous hunger low blood sugar c...\n",
              "53763    so much better oxycontin osteoarthritis s i jo...\n",
              "53764    i taking lexapro year seems help lot social an...\n",
              "53765                                       fast effective\n",
              "Name: Lemmatization, Length: 106400, dtype: object"
            ]
          },
          "metadata": {
            "tags": []
          },
          "execution_count": 24
        }
      ]
    },
    {
      "cell_type": "markdown",
      "metadata": {
        "id": "IcJJyhFimQQp"
      },
      "source": [
        "**Emotions Capturing Basing on Drug Review**"
      ]
    },
    {
      "cell_type": "code",
      "metadata": {
        "id": "l_wJYuaAnWwZ"
      },
      "source": [
        "emotions_df = pd.read_csv(\"/content/sample_data/NRC-Emotion-Lexicon-Wordlevel-v0.92.txt\",  names=[\"word\", \"emotion\", \"association\"], sep='\\t')\n",
        "emotions_words = emotions_df.pivot(index='word',columns='emotion',values='association').reset_index()"
      ],
      "execution_count": 26,
      "outputs": []
    },
    {
      "cell_type": "code",
      "metadata": {
        "id": "4ZpzGAMf-p9G"
      },
      "source": [
        "df_sample=df.sample(n=10000)\n",
        "new_df=df_sample.copy()"
      ],
      "execution_count": 55,
      "outputs": []
    },
    {
      "cell_type": "code",
      "metadata": {
        "id": "0AvV-n8aDRhk"
      },
      "source": [
        "new_df=new_df.reset_index().iloc[:,1:]"
      ],
      "execution_count": 56,
      "outputs": []
    },
    {
      "cell_type": "code",
      "metadata": {
        "id": "DjGBlB2Vo-w7"
      },
      "source": [
        "emotions = emotions_words.columns.drop('word')\n",
        "emo_df = pd.DataFrame(0, index=new_df.index, columns=emotions)\n",
        "i=0\n",
        "for a in df_sample['Lemmatization']:\n",
        "  splitting_words=word_tokenize(a)\n",
        "  for word in splitting_words:\n",
        "    emo_score = emotions_words[emotions_words.word == word]\n",
        "    if not emo_score.empty:\n",
        "      for emotion in list(emotions):\n",
        "        emo_df.at[i, emotion] += emo_score[emotion]\n",
        "  i=i+1"
      ],
      "execution_count": 57,
      "outputs": []
    },
    {
      "cell_type": "code",
      "metadata": {
        "id": "arLanugAGCEk"
      },
      "source": [
        "new_df = pd.concat([new_df, emo_df], axis=1)"
      ],
      "execution_count": 58,
      "outputs": []
    },
    {
      "cell_type": "code",
      "metadata": {
        "id": "fJiW0XlBJXuf"
      },
      "source": [
        "new_df.to_csv(\"Sentiment_Emotions.csv\")"
      ],
      "execution_count": 61,
      "outputs": []
    },
    {
      "cell_type": "code",
      "metadata": {
        "id": "9N5h6vBZDdIy"
      },
      "source": [
        "df=pd.read_csv(\"/content/Sentiment_Emotions.csv\")\n",
        "df=df[df[\"drugName\"]==\"Magnesium sulfate / potassium sulfate / sodium sulfate\"].sort_values(by=\"usefulCount\", ascending=False).iloc[0,15:25]\n"
      ],
      "execution_count": 100,
      "outputs": []
    },
    {
      "cell_type": "code",
      "metadata": {
        "colab": {
          "base_uri": "https://localhost:8080/",
          "height": 609
        },
        "id": "W5zQ1airCKh5",
        "outputId": "d9a02c26-2df8-4c3e-e2d9-0b81a748e76c"
      },
      "source": [
        "sns.barplot(df.index,df.values)"
      ],
      "execution_count": 101,
      "outputs": [
        {
          "output_type": "execute_result",
          "data": {
            "text/plain": [
              "<matplotlib.axes._subplots.AxesSubplot at 0x7f1dc89cd910>"
            ]
          },
          "metadata": {
            "tags": []
          },
          "execution_count": 101
        },
        {
          "output_type": "display_data",
          "data": {
            "image/png": "[encoded data removed]",
            "text/plain": [
              "<Figure size 720x720 with 1 Axes>"
            ]
          },
          "metadata": {
            "tags": [],
            "needs_background": "light"
          }
        }
      ]
    },
    {
      "cell_type": "markdown",
      "metadata": {
        "id": "TLSB-m1gJe4J"
      },
      "source": [
        "**Drug Prediction Based on Ranking**"
      ]
    },
    {
      "cell_type": "code",
      "metadata": {
        "id": "j4j9ESalvcPe"
      },
      "source": [
        "input_condition = 'Birth Control'\n",
        "cond_filtered = df[df['condition'] == input_condition]\n",
        "cond_filtered = cond_filtered.groupby(['condition','drugName']).agg('mean').sort_values(['Sentiment'],ascending=False)\n",
        "cond_filtered=cond_filtered.reset_index()"
      ],
      "execution_count": 36,
      "outputs": []
    },
    {
      "cell_type": "code",
      "metadata": {
        "colab": {
          "base_uri": "https://localhost:8080/"
        },
        "id": "b7fy_ZcFoqOy",
        "outputId": "9c7c390f-99db-4505-ab89-99f8a5db50da"
      },
      "source": [
        "cond_filtered[\"drugName\"].head(5)"
      ],
      "execution_count": 37,
      "outputs": [
        {
          "output_type": "execute_result",
          "data": {
            "text/plain": [
              "0       Zovia 1 / 50\n",
              "1           Altavera\n",
              "2           Amethyst\n",
              "3    Low-Ogestrel-21\n",
              "4       Ortho Cyclen\n",
              "Name: drugName, dtype: object"
            ]
          },
          "metadata": {
            "tags": []
          },
          "execution_count": 37
        }
      ]
    },
    {
      "cell_type": "code",
      "metadata": {
        "id": "vTR9ZT8w0wAv",
        "colab": {
          "base_uri": "https://localhost:8080/",
          "height": 351
        },
        "outputId": "33f8b42c-9833-4295-f59b-a2f755f4d7e9"
      },
      "source": [
        "plt.figure(figsize=(10,5))\n",
        "sns.barplot(cond_filtered[\"drugName\"].head(5),cond_filtered[\"Sentiment\"].head(5))"
      ],
      "execution_count": 45,
      "outputs": [
        {
          "output_type": "execute_result",
          "data": {
            "text/plain": [
              "<matplotlib.axes._subplots.AxesSubplot at 0x7f1dca1445d0>"
            ]
          },
          "metadata": {
            "tags": []
          },
          "execution_count": 45
        },
        {
          "output_type": "display_data",
          "data": {
            "image/png": "[encoded data removed]",
            "text/plain": [
              "<Figure size 720x360 with 1 Axes>"
            ]
          },
          "metadata": {
            "tags": [],
            "needs_background": "light"
          }
        }
      ]
    }
  ]
}